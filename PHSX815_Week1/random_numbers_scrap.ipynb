{
 "cells": [
  {
   "cell_type": "code",
   "execution_count": 1,
   "metadata": {},
   "outputs": [],
   "source": [
    "import sys\n",
    "import numpy as np\n",
    "from matplotlib import pyplot as plt\n",
    "\n",
    "#adapted from textbook and class notes\n",
    "\n",
    "class Random:\n",
    "    \"\"\"A random number generator class\"\"\"\n",
    "    \n",
    "    #initialization method for Random class\n",
    "    def __init__(self,seed=5555):\n",
    "        self.seed = seed\n",
    "        self.m_v = np.uint64(4101842887655102017)\n",
    "        self.m_w = np.uint64(1)\n",
    "        self.m_u = np.uint64(1)\n",
    "        \n",
    "        self.m_u = np.uint(self.seed) ^ self.m_v\n",
    "        self.int64()\n",
    "        self.m_v = self.m_u\n",
    "        self.int64()\n",
    "        self.m_w = self.m_v\n",
    "        self.int64()\n",
    "        \n",
    "    #function returns a random 64 bit integer\n",
    "    def int64(self):\n",
    "        self.m_u = np.uint64(self.m_u * 2862933555777941757) + np.uint64(7046029254386353087)\n",
    "        self.m_v ^= self.m_v >> np.uint64(17)\n",
    "        self.m_v ^= self.m_v << np.uint64(31)\n",
    "        self.m_v ^= self.m_v >> np.uint64(8)\n",
    "        self.m_w = np.uint64(np.uint64(4294957665)*(self.m_w & np.uint64(0xffffffff))) + np.uint64((self.m_w >> np.uint64(32)))\n",
    "        x = np.uint64(self.m_u ^ (self.m_u << np.uint64(21)))\n",
    "        x ^= x >> np.uint64(35)\n",
    "        x ^= x << np.uint64(4)\n",
    "        with np.errstate(over='ignore'):\n",
    "            return (x + self.m_v)^self.m_w\n",
    "        \n",
    "#main function for this python code\n",
    "\n",
    "if __name__ == \"__main__\":\n",
    "    #if the user includes the flag -h or --help, print the options\n",
    "    if '-h' in sys.argv or '--help' in sys.argv:\n",
    "        print(\"Usage: %s [-seed number]\" % sys.argv[0])\n",
    "        print\n",
    "        sys.exit(1)\n",
    "            \n",
    "    #default seed\n",
    "    seed = 5555\n",
    "    \n",
    "    if '-seed' in sys.argv:\n",
    "        p = sys.argv.index('-seed')\n",
    "        seed = sys.argv[p+1]\n",
    "     \n",
    "    \n",
    "#can use either/or of the following two options to generate a random seed\n",
    "\n",
    "    #set random seed for numpy\n",
    "    np.random.seed(seed)\n",
    "    \n",
    "    #class instance of our Random class using seed\n",
    "    random = Random(seed)\n",
    "    \n",
    "#create some random data\n",
    "    N = 10000\n",
    "    \n",
    "    #an array of random numbers from numpy\n",
    "    x = np.random.rand(N)    \n",
    "        \n",
    "    #an array of random numbers using our Random class\n",
    "    myx = []\n",
    "    for i in range(0,N):\n",
    "        myx.append(np.random.rand())\n",
    "    \n",
    "    #create histogram of data\n",
    "    n,bins,patches = plt.hist(myx,50,density=True,facecolor='g',alpha=0.75)\n",
    "    plt.xlabel('x')\n",
    "    plt.ylabel('Probability')\n",
    "    plt.title('Uniform Random Number',fontsize=14)\n",
    "    plt.grid()\n",
    "        \n",
    "    plt.show()"
   ]
  },
  {
   "cell_type": "markdown",
   "metadata": {},
   "source": [
    "------------------"
   ]
  },
  {
   "cell_type": "code",
   "execution_count": 58,
   "metadata": {},
   "outputs": [],
   "source": [
    "import numpy as np\n",
    "import csv\n",
    "from matplotlib import pyplot as plt\n",
    "import sys\n",
    "\n",
    "if __name__ == \"__main__\":\n",
    "    if '-h' in sys.argv or '--help' in sys.argv:\n",
    "        print(\"Usage: %s [-seed number]\" % sys.argv[0])\n",
    "        print\n",
    "        sys.exit(1)\n",
    "            \n",
    "    #default seed\n",
    "    seed = 5555\n",
    "    \n",
    "    if '-seed' in sys.argv:\n",
    "        p = sys.argv.index('-seed')\n",
    "        seed = sys.argv[p+1]\n",
    "    \n",
    "    np.random.seed(seed)\n",
    "    N = 10000\n",
    "    arr = np.random.rand(N)\n",
    "\n",
    "    with open('github/PHSX815_Week1/random_list.csv','w') as f:\n",
    "        writer = csv.writer(f,delimiter=',')\n",
    "        writer.writerow(arr)\n",
    "        \n",
    "        #for item in arr:\n",
    "            #f.write(str(item))\n",
    "        f.close()"
   ]
  },
  {
   "cell_type": "code",
   "execution_count": 88,
   "metadata": {},
   "outputs": [
    {
     "data": {
      "image/png": "[encoded data removed]",
      "text/plain": [
       "<Figure size 432x288 with 1 Axes>"
      ]
     },
     "metadata": {
      "needs_background": "light"
     },
     "output_type": "display_data"
    }
   ],
   "source": [
    "#open csv file, convert each delimited string into a float, append to list\n",
    "\n",
    "list = []\n",
    "with open('github/PHSX815_Week1/random_list.csv','r') as f:\n",
    "    reader = csv.reader(f,delimiter=',')\n",
    "    for row in reader:\n",
    "        for i in range(0,N):\n",
    "            num = float(row[i])\n",
    "            list.append(num)\n",
    "            \n",
    "n,bins,patches = plt.hist(list,50,density=True,facecolor='g',alpha=0.75)\n",
    "plt.xlabel('x',fontsize=16)\n",
    "plt.ylabel('Counts',fontsize=16)\n",
    "plt.title('Uniform Random Number',fontsize=16)\n",
    "plt.grid()\n",
    "        \n",
    "plt.show()"
   ]
  }
 ],
 "metadata": {
  "kernelspec": {
   "display_name": "Python 3",
   "language": "python",
   "name": "python3"
  },
  "language_info": {
   "codemirror_mode": {
    "name": "ipython",
    "version": 3
   },
   "file_extension": ".py",
   "mimetype": "text/x-python",
   "name": "python",
   "nbconvert_exporter": "python",
   "pygments_lexer": "ipython3",
   "version": "3.8.3"
  }
 },
 "nbformat": 4,
 "nbformat_minor": 4
}
