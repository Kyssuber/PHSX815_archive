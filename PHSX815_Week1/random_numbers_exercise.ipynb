{
 "cells": [
  {
   "cell_type": "code",
   "execution_count": null,
   "metadata": {},
   "outputs": [],
   "source": [
    "import numpy as np\n",
    "import csv\n",
    "from matplotlib import pyplot as plt\n",
    "import sys\n",
    "\n",
    "\n",
    "if __name__ == \"__main__\":\n",
    "    if '-h' in sys.argv or '--help' in sys.argv:\n",
    "        print(\"Usage: %s [-seed number]\" % sys.argv[0])\n",
    "        print(\"Be sure .py and .csv are in same directory; cd to said directory before running.\")\n",
    "        print\n",
    "        sys.exit(1)\n",
    "            \n",
    "    #default seed\n",
    "    seed = 5555\n",
    "    \n",
    "    if '-seed' in sys.argv:\n",
    "        p = sys.argv.index('-seed')\n",
    "        seed = sys.argv[p+1]\n",
    "    \n",
    "    np.random.seed(seed)\n",
    "    N = 10000\n",
    "    arr = np.random.rand(N)\n",
    "\n",
    "    with open('random_list.csv','w') as f:\n",
    "        writer = csv.writer(f,delimiter=',')\n",
    "        writer.writerow(arr)\n",
    "        \n",
    "        #for item in arr:\n",
    "            #f.write(str(item))\n",
    "        f.close()\n",
    "        \n",
    "#open csv file, convert each delimited string into a float, append to list\n",
    "\n",
    "    list = []\n",
    "    with open('random_list.csv','r') as f:\n",
    "        reader = csv.reader(f,delimiter=',')\n",
    "        for row in reader:\n",
    "            for i in range(0,N):\n",
    "                num = float(row[i])\n",
    "                list.append(num)\n",
    "            \n",
    "    n,bins,patches = plt.hist(list,50,density=True,facecolor='g',alpha=0.75)\n",
    "    plt.xlabel('x',fontsize=16)\n",
    "    plt.ylabel('Counts',fontsize=16)\n",
    "    plt.title('Uniform Random Number',fontsize=16)\n",
    "    plt.grid()\n",
    "    \n",
    "    plt.show()"
   ]
  }
 ],
 "metadata": {
  "kernelspec": {
   "display_name": "Python 3",
   "language": "python",
   "name": "python3"
  },
  "language_info": {
   "codemirror_mode": {
    "name": "ipython",
    "version": 3
   },
   "file_extension": ".py",
   "mimetype": "text/x-python",
   "name": "python",
   "nbconvert_exporter": "python",
   "pygments_lexer": "ipython3",
   "version": "3.8.3"
  }
 },
 "nbformat": 4,
 "nbformat_minor": 4
}
