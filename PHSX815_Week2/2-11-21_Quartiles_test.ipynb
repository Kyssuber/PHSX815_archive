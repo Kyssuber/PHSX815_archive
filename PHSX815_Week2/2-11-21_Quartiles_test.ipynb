{
 "cells": [
  {
   "cell_type": "code",
   "execution_count": 1,
   "metadata": {},
   "outputs": [],
   "source": [
    "import numpy as np"
   ]
  },
  {
   "cell_type": "code",
   "execution_count": 2,
   "metadata": {},
   "outputs": [],
   "source": [
    "x = np.arange(0,1000,0.1)"
   ]
  },
  {
   "cell_type": "code",
   "execution_count": 9,
   "metadata": {},
   "outputs": [
    {
     "name": "stdout",
     "output_type": "stream",
     "text": [
      "250.0 500.0 750.0\n"
     ]
    }
   ],
   "source": [
    "q2_ind = int(len(x)/2)\n",
    "q2 = x[q2_ind]\n",
    "q1_ind = int(q2_ind/2)\n",
    "q1 = x[q1_ind]\n",
    "q3_ind = q1_ind + q2_ind\n",
    "q3 = x[q3_ind]\n",
    "\n",
    "print(q1,q2,q3)"
   ]
  }
 ],
 "metadata": {
  "kernelspec": {
   "display_name": "Python 3",
   "language": "python",
   "name": "python3"
  },
  "language_info": {
   "codemirror_mode": {
    "name": "ipython",
    "version": 3
   },
   "file_extension": ".py",
   "mimetype": "text/x-python",
   "name": "python",
   "nbconvert_exporter": "python",
   "pygments_lexer": "ipython3",
   "version": "3.8.3"
  }
 },
 "nbformat": 4,
 "nbformat_minor": 4
}
