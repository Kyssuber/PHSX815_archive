{
 "cells": [
  {
   "cell_type": "markdown",
   "metadata": {},
   "source": [
    "## PHSX 815 Neural Network with Keras tutorial\n",
    "### How can we predict the quality of wine based on its physical characteristics?\n",
    "We will download the `wine_quality` dataset from Tensorflow (the Keras backend) to train a neural network to predict wine quality."
   ]
  },
  {
   "cell_type": "code",
   "execution_count": 2,
   "metadata": {},
   "outputs": [],
   "source": [
    "import matplotlib.pyplot as plt\n",
    "import seaborn as sns\n",
    "import numpy as np\n",
    "from sklearn.preprocessing import OneHotEncoder, MinMaxScaler\n",
    "from sklearn.metrics import confusion_matrix\n",
    "from sklearn.model_selection import train_test_split\n",
    "import pandas as pd\n",
    "\n",
    "import tensorflow as tf\n",
    "from tensorflow.keras.models import Sequential, Model\n",
    "from tensorflow.keras.layers import *\n",
    "# from tensorflow.keras.optimizers import SGD, Adam\n",
    "# from tensorflow.keras.activations import relu\n",
    "import tensorflow_datasets as tfds\n",
    "from IPython.core.interactiveshell import InteractiveShell\n",
    "InteractiveShell.ast_node_interactivity = \"all\""
   ]
  },
  {
   "cell_type": "code",
   "execution_count": 5,
   "metadata": {
    "scrolled": true
   },
   "outputs": [
    {
     "name": "stdout",
     "output_type": "stream",
     "text": [
      "\u001b[1mDownloading and preparing dataset 258.23 KiB (download: 258.23 KiB, generated: 1.87 MiB, total: 2.13 MiB) to /Users/k215c316/tensorflow_datasets/wine_quality/white/1.0.0...\u001b[0m\n"
     ]
    },
    {
     "data": {
      "application/vnd.jupyter.widget-view+json": {
       "model_id": "b3142e9a419c46a98f4a1bbbf4c3aae5",
       "version_major": 2,
       "version_minor": 0
      },
      "text/plain": [
       "HBox(children=(FloatProgress(value=1.0, bar_style='info', description='Dl Completed...', max=1.0, style=Progre…"
      ]
     },
     "metadata": {},
     "output_type": "display_data"
    },
    {
     "data": {
      "application/vnd.jupyter.widget-view+json": {
       "model_id": "f8bced14590f4ee58dede4acc4e3c591",
       "version_major": 2,
       "version_minor": 0
      },
      "text/plain": [
       "HBox(children=(FloatProgress(value=1.0, bar_style='info', description='Dl Size...', max=1.0, style=ProgressSty…"
      ]
     },
     "metadata": {},
     "output_type": "display_data"
    },
    {
     "name": "stdout",
     "output_type": "stream",
     "text": [
      "\n",
      "\n",
      "\n",
      "\n"
     ]
    },
    {
     "data": {
      "application/vnd.jupyter.widget-view+json": {
       "model_id": "",
       "version_major": 2,
       "version_minor": 0
      },
      "text/plain": [
       "HBox(children=(FloatProgress(value=0.0, description='Generating splits...', max=1.0, style=ProgressStyle(descr…"
      ]
     },
     "metadata": {},
     "output_type": "display_data"
    },
    {
     "data": {
      "application/vnd.jupyter.widget-view+json": {
       "model_id": "",
       "version_major": 2,
       "version_minor": 0
      },
      "text/plain": [
       "HBox(children=(FloatProgress(value=0.0, description='Generating train examples...', max=4898.0, style=Progress…"
      ]
     },
     "metadata": {},
     "output_type": "display_data"
    },
    {
     "data": {
      "application/vnd.jupyter.widget-view+json": {
       "model_id": "",
       "version_major": 2,
       "version_minor": 0
      },
      "text/plain": [
       "HBox(children=(FloatProgress(value=0.0, description='Shuffling wine_quality-train.tfrecord...', max=4898.0, st…"
      ]
     },
     "metadata": {},
     "output_type": "display_data"
    },
    {
     "name": "stdout",
     "output_type": "stream",
     "text": [
      "\u001b[1mDataset wine_quality downloaded and prepared to /Users/k215c316/tensorflow_datasets/wine_quality/white/1.0.0. Subsequent calls will reuse this data.\u001b[0m\n",
      "Features and label for first entry\n",
      "{'alcohol': 9.0, 'chlorides': 0.054, 'citric acid': 0.34, 'density': 1.0008, 'fixed acidity': 7.6, 'free sulfur dioxide': 44.0, 'pH': 3.22, 'residual sugar': 18.35, 'sulphates': 0.550000011920929, 'total sulfur dioxide': 197.0, 'volatile acidity': 0.32} 5\n",
      "\u001b[1mDownloading and preparing dataset 82.23 KiB (download: 82.23 KiB, generated: 626.17 KiB, total: 708.40 KiB) to /Users/k215c316/tensorflow_datasets/wine_quality/red/1.0.0...\u001b[0m\n"
     ]
    },
    {
     "data": {
      "application/vnd.jupyter.widget-view+json": {
       "model_id": "1f1d0bf32eee49108c618170f1a09126",
       "version_major": 2,
       "version_minor": 0
      },
      "text/plain": [
       "HBox(children=(FloatProgress(value=1.0, bar_style='info', description='Dl Completed...', max=1.0, style=Progre…"
      ]
     },
     "metadata": {},
     "output_type": "display_data"
    },
    {
     "data": {
      "application/vnd.jupyter.widget-view+json": {
       "model_id": "bc8bbb87d22b4559a6409a06a0613282",
       "version_major": 2,
       "version_minor": 0
      },
      "text/plain": [
       "HBox(children=(FloatProgress(value=1.0, bar_style='info', description='Dl Size...', max=1.0, style=ProgressSty…"
      ]
     },
     "metadata": {},
     "output_type": "display_data"
    },
    {
     "name": "stdout",
     "output_type": "stream",
     "text": [
      "\n",
      "\n",
      "\n",
      "\n"
     ]
    },
    {
     "data": {
      "application/vnd.jupyter.widget-view+json": {
       "model_id": "",
       "version_major": 2,
       "version_minor": 0
      },
      "text/plain": [
       "HBox(children=(FloatProgress(value=0.0, description='Generating splits...', max=1.0, style=ProgressStyle(descr…"
      ]
     },
     "metadata": {},
     "output_type": "display_data"
    },
    {
     "data": {
      "application/vnd.jupyter.widget-view+json": {
       "model_id": "",
       "version_major": 2,
       "version_minor": 0
      },
      "text/plain": [
       "HBox(children=(FloatProgress(value=0.0, description='Generating train examples...', max=1599.0, style=Progress…"
      ]
     },
     "metadata": {},
     "output_type": "display_data"
    },
    {
     "data": {
      "application/vnd.jupyter.widget-view+json": {
       "model_id": "",
       "version_major": 2,
       "version_minor": 0
      },
      "text/plain": [
       "HBox(children=(FloatProgress(value=0.0, description='Shuffling wine_quality-train.tfrecord...', max=1599.0, st…"
      ]
     },
     "metadata": {},
     "output_type": "display_data"
    },
    {
     "name": "stdout",
     "output_type": "stream",
     "text": [
      "\u001b[1mDataset wine_quality downloaded and prepared to /Users/k215c316/tensorflow_datasets/wine_quality/red/1.0.0. Subsequent calls will reuse this data.\u001b[0m\n",
      "number of samples 6497\n",
      "possible wine quality ratings [5 6 4 8 7 3 9]\n"
     ]
    }
   ],
   "source": [
    "#if you want to load the data as tuples, you can use the as_supervised=True argument\n",
    "data_train = tfds.load('wine_quality',split='train',as_supervised=True)\n",
    "\n",
    "#looking at just one sample of our data\n",
    "pt = data_train.take(1)\n",
    "# type(pt)\n",
    "\n",
    "#can convert this TakeDataset object to a numpy array (can do this for the whole dataset too)\n",
    "print(\"Features and label for first entry\")\n",
    "for features, label in tfds.as_numpy(pt):\n",
    "    print(features,label)\n",
    "\n",
    "#we want to load dataset as a dictionary of tf.Tensors (can't transform tuples to dataframe)\n",
    "data_train_white = tfds.load('wine_quality/white',split='train')\n",
    "data_train_red = tfds.load('wine_quality/red',split='train')\n",
    "\n",
    "#transform dictionary to dataframe - combining red and white wine\n",
    "df_white = tfds.as_dataframe(data_train_white)\n",
    "df_red = tfds.as_dataframe(data_train_red)\n",
    "df = pd.concat([df_white,df_red])\n",
    "\n",
    "print('number of samples',len(df['quality']))\n",
    "\n",
    "#what are our output possibilities?\n",
    "print('possible wine quality ratings',df['quality'].unique())"
   ]
  },
  {
   "cell_type": "code",
   "execution_count": 3,
   "metadata": {},
   "outputs": [
    {
     "name": "stdout",
     "output_type": "stream",
     "text": [
      "all good!\n"
     ]
    }
   ],
   "source": [
    "#do we have any missing data (empty or NaN entries in features or labels)?\n",
    "dataNans = df.isnull().values.any()\n",
    "if not dataNans:\n",
    "    print(\"all good!\")"
   ]
  },
  {
   "cell_type": "markdown",
   "metadata": {},
   "source": [
    "### Preprocessing our labels\n",
    "Although this may seem like a regression task for a neural network because we are predicting a number (wine quality), the labels are actually *categorical* not *continuous*. If you look at the labels, you see that they are integer values between 5 and 9. Because this is a classification problem, we need to one-hot encode our labels. This means taking our possible outcomes and turning them into arrays of a 1 and 0's. The index of the 1 in the array will tell us which class is which. So, for example, 5 becomes [1,0,0,0,0], 6 becomes [0,1,0,0,0] and so on. We can use a function from sklearn to do this automatically."
   ]
  },
  {
   "cell_type": "markdown",
   "metadata": {},
   "source": [
    "this dataset unfortunately only gives us training data - but we can set aside a portion for testing our network on. in practice, you don't want to test your network on data it has already seen (is it really a prediction if you use your model on data it was fitted to?) but, for educational purposes, we can ~randomly sample our data and call it ~iid.\n",
    "Here, I combine the red and white wine datasets for increased statistics. What happens if you train networks on these datasets separately? Or what happens if you use one dataset to train and one to test?\n",
    "\n",
    "A: I assume the features of red wine that dictate its quality differ from those of white wine, else the two would taste differently (no, I do not speak from experience). As such, using white wine data to train and red wine data to test would not be terrific of an approach if the aim is accuracy."
   ]
  },
  {
   "cell_type": "code",
   "execution_count": 6,
   "metadata": {},
   "outputs": [
    {
     "data": {
      "text/plain": [
       "array([5, 6, 4, 8, 7, 3, 9])"
      ]
     },
     "execution_count": 6,
     "metadata": {},
     "output_type": "execute_result"
    },
    {
     "data": {
      "text/html": [
       "<div>\n",
       "<style scoped>\n",
       "    .dataframe tbody tr th:only-of-type {\n",
       "        vertical-align: middle;\n",
       "    }\n",
       "\n",
       "    .dataframe tbody tr th {\n",
       "        vertical-align: top;\n",
       "    }\n",
       "\n",
       "    .dataframe thead th {\n",
       "        text-align: right;\n",
       "    }\n",
       "</style>\n",
       "<table border=\"1\" class=\"dataframe\">\n",
       "  <thead>\n",
       "    <tr style=\"text-align: right;\">\n",
       "      <th></th>\n",
       "      <th>features/alcohol</th>\n",
       "      <th>features/chlorides</th>\n",
       "      <th>features/citric acid</th>\n",
       "      <th>features/density</th>\n",
       "      <th>features/fixed acidity</th>\n",
       "      <th>features/free sulfur dioxide</th>\n",
       "      <th>features/pH</th>\n",
       "      <th>features/residual sugar</th>\n",
       "      <th>features/sulphates</th>\n",
       "      <th>features/total sulfur dioxide</th>\n",
       "      <th>features/volatile acidity</th>\n",
       "    </tr>\n",
       "  </thead>\n",
       "  <tbody>\n",
       "    <tr>\n",
       "      <th>1124</th>\n",
       "      <td>11.10</td>\n",
       "      <td>0.081</td>\n",
       "      <td>0.33</td>\n",
       "      <td>0.99490</td>\n",
       "      <td>6.9</td>\n",
       "      <td>22.0</td>\n",
       "      <td>3.41</td>\n",
       "      <td>2.2</td>\n",
       "      <td>0.75</td>\n",
       "      <td>36.0</td>\n",
       "      <td>0.41</td>\n",
       "    </tr>\n",
       "    <tr>\n",
       "      <th>1328</th>\n",
       "      <td>10.65</td>\n",
       "      <td>0.037</td>\n",
       "      <td>0.28</td>\n",
       "      <td>0.99094</td>\n",
       "      <td>5.9</td>\n",
       "      <td>24.0</td>\n",
       "      <td>3.29</td>\n",
       "      <td>1.0</td>\n",
       "      <td>0.55</td>\n",
       "      <td>88.0</td>\n",
       "      <td>0.18</td>\n",
       "    </tr>\n",
       "    <tr>\n",
       "      <th>842</th>\n",
       "      <td>12.40</td>\n",
       "      <td>0.029</td>\n",
       "      <td>0.38</td>\n",
       "      <td>0.98895</td>\n",
       "      <td>5.4</td>\n",
       "      <td>31.0</td>\n",
       "      <td>3.28</td>\n",
       "      <td>1.2</td>\n",
       "      <td>0.36</td>\n",
       "      <td>132.0</td>\n",
       "      <td>0.29</td>\n",
       "    </tr>\n",
       "    <tr>\n",
       "      <th>2932</th>\n",
       "      <td>9.40</td>\n",
       "      <td>0.033</td>\n",
       "      <td>0.17</td>\n",
       "      <td>0.99754</td>\n",
       "      <td>6.9</td>\n",
       "      <td>59.0</td>\n",
       "      <td>3.08</td>\n",
       "      <td>12.9</td>\n",
       "      <td>0.49</td>\n",
       "      <td>186.0</td>\n",
       "      <td>0.40</td>\n",
       "    </tr>\n",
       "    <tr>\n",
       "      <th>341</th>\n",
       "      <td>8.40</td>\n",
       "      <td>0.056</td>\n",
       "      <td>0.12</td>\n",
       "      <td>0.99536</td>\n",
       "      <td>6.4</td>\n",
       "      <td>6.0</td>\n",
       "      <td>3.06</td>\n",
       "      <td>5.9</td>\n",
       "      <td>0.46</td>\n",
       "      <td>91.0</td>\n",
       "      <td>0.37</td>\n",
       "    </tr>\n",
       "  </tbody>\n",
       "</table>\n",
       "</div>"
      ],
      "text/plain": [
       "      features/alcohol  features/chlorides  features/citric acid  \\\n",
       "1124             11.10               0.081                  0.33   \n",
       "1328             10.65               0.037                  0.28   \n",
       "842              12.40               0.029                  0.38   \n",
       "2932              9.40               0.033                  0.17   \n",
       "341               8.40               0.056                  0.12   \n",
       "\n",
       "      features/density  features/fixed acidity  features/free sulfur dioxide  \\\n",
       "1124           0.99490                     6.9                          22.0   \n",
       "1328           0.99094                     5.9                          24.0   \n",
       "842            0.98895                     5.4                          31.0   \n",
       "2932           0.99754                     6.9                          59.0   \n",
       "341            0.99536                     6.4                           6.0   \n",
       "\n",
       "      features/pH  features/residual sugar  features/sulphates  \\\n",
       "1124         3.41                      2.2                0.75   \n",
       "1328         3.29                      1.0                0.55   \n",
       "842          3.28                      1.2                0.36   \n",
       "2932         3.08                     12.9                0.49   \n",
       "341          3.06                      5.9                0.46   \n",
       "\n",
       "      features/total sulfur dioxide  features/volatile acidity  \n",
       "1124                           36.0                       0.41  \n",
       "1328                           88.0                       0.18  \n",
       "842                           132.0                       0.29  \n",
       "2932                          186.0                       0.40  \n",
       "341                            91.0                       0.37  "
      ]
     },
     "execution_count": 6,
     "metadata": {},
     "output_type": "execute_result"
    }
   ],
   "source": [
    "#it's helpful to separate our input features from our target features (quality) \n",
    "#so we can later only transform our inputs without changing our labels\n",
    "labels = df['quality']\n",
    "df = df.drop(labels='quality',axis=1)\n",
    "labels.unique()\n",
    "\n",
    "enc = OneHotEncoder(sparse=False)\n",
    "labels = enc.fit_transform(labels.to_numpy().reshape(-1,1))\n",
    "\n",
    "#make our test data\n",
    "df, df_test, labels, df_testLabels = train_test_split(df,labels,test_size=0.1)\n",
    "\n",
    "#look at the first 5 entries\n",
    "df.head()"
   ]
  },
  {
   "cell_type": "markdown",
   "metadata": {},
   "source": [
    "### some questions to consider:\n",
    "- how was this data obtained? what goes into engineering the features? what does \"quality\" mean?\n",
    "- do you have to normalize your features?\n",
    "- are there any correlations among features? is this expected? how can we encode this information to the NN or decouple these features?\n",
    "- what does the data look like?\n",
    "- do we have any missing or NaN entries?"
   ]
  },
  {
   "cell_type": "markdown",
   "metadata": {},
   "source": [
    "let's examine the data to see what kinds of transformations we need to make for preprocessing"
   ]
  },
  {
   "cell_type": "code",
   "execution_count": 5,
   "metadata": {},
   "outputs": [
    {
     "data": {
      "text/html": [
       "<div>\n",
       "<style scoped>\n",
       "    .dataframe tbody tr th:only-of-type {\n",
       "        vertical-align: middle;\n",
       "    }\n",
       "\n",
       "    .dataframe tbody tr th {\n",
       "        vertical-align: top;\n",
       "    }\n",
       "\n",
       "    .dataframe thead th {\n",
       "        text-align: right;\n",
       "    }\n",
       "</style>\n",
       "<table border=\"1\" class=\"dataframe\">\n",
       "  <thead>\n",
       "    <tr style=\"text-align: right;\">\n",
       "      <th></th>\n",
       "      <th>features/alcohol</th>\n",
       "      <th>features/chlorides</th>\n",
       "      <th>features/citric acid</th>\n",
       "      <th>features/density</th>\n",
       "      <th>features/fixed acidity</th>\n",
       "      <th>features/free sulfur dioxide</th>\n",
       "      <th>features/pH</th>\n",
       "      <th>features/residual sugar</th>\n",
       "      <th>features/sulphates</th>\n",
       "      <th>features/total sulfur dioxide</th>\n",
       "      <th>features/volatile acidity</th>\n",
       "    </tr>\n",
       "  </thead>\n",
       "  <tbody>\n",
       "    <tr>\n",
       "      <th>count</th>\n",
       "      <td>5847.000000</td>\n",
       "      <td>5847.000000</td>\n",
       "      <td>5847.000000</td>\n",
       "      <td>5847.000000</td>\n",
       "      <td>5847.000000</td>\n",
       "      <td>5847.000000</td>\n",
       "      <td>5847.000000</td>\n",
       "      <td>5847.000000</td>\n",
       "      <td>5847.000000</td>\n",
       "      <td>5847.000000</td>\n",
       "      <td>5847.000000</td>\n",
       "    </tr>\n",
       "    <tr>\n",
       "      <th>mean</th>\n",
       "      <td>10.496382</td>\n",
       "      <td>0.055992</td>\n",
       "      <td>0.318519</td>\n",
       "      <td>0.994684</td>\n",
       "      <td>7.210185</td>\n",
       "      <td>30.592954</td>\n",
       "      <td>3.217339</td>\n",
       "      <td>5.453275</td>\n",
       "      <td>0.531599</td>\n",
       "      <td>115.862494</td>\n",
       "      <td>0.339868</td>\n",
       "    </tr>\n",
       "    <tr>\n",
       "      <th>std</th>\n",
       "      <td>1.192027</td>\n",
       "      <td>0.035422</td>\n",
       "      <td>0.144470</td>\n",
       "      <td>0.003007</td>\n",
       "      <td>1.288970</td>\n",
       "      <td>17.813128</td>\n",
       "      <td>0.160379</td>\n",
       "      <td>4.765171</td>\n",
       "      <td>0.148349</td>\n",
       "      <td>56.396158</td>\n",
       "      <td>0.165075</td>\n",
       "    </tr>\n",
       "    <tr>\n",
       "      <th>min</th>\n",
       "      <td>8.000000</td>\n",
       "      <td>0.009000</td>\n",
       "      <td>0.000000</td>\n",
       "      <td>0.987130</td>\n",
       "      <td>3.800000</td>\n",
       "      <td>1.000000</td>\n",
       "      <td>2.720000</td>\n",
       "      <td>0.600000</td>\n",
       "      <td>0.220000</td>\n",
       "      <td>6.000000</td>\n",
       "      <td>0.080000</td>\n",
       "    </tr>\n",
       "    <tr>\n",
       "      <th>25%</th>\n",
       "      <td>9.500000</td>\n",
       "      <td>0.038000</td>\n",
       "      <td>0.250000</td>\n",
       "      <td>0.992300</td>\n",
       "      <td>6.400000</td>\n",
       "      <td>17.000000</td>\n",
       "      <td>3.110000</td>\n",
       "      <td>1.800000</td>\n",
       "      <td>0.430000</td>\n",
       "      <td>78.000000</td>\n",
       "      <td>0.230000</td>\n",
       "    </tr>\n",
       "    <tr>\n",
       "      <th>50%</th>\n",
       "      <td>10.300000</td>\n",
       "      <td>0.047000</td>\n",
       "      <td>0.310000</td>\n",
       "      <td>0.994860</td>\n",
       "      <td>7.000000</td>\n",
       "      <td>29.000000</td>\n",
       "      <td>3.200000</td>\n",
       "      <td>3.000000</td>\n",
       "      <td>0.510000</td>\n",
       "      <td>118.000000</td>\n",
       "      <td>0.290000</td>\n",
       "    </tr>\n",
       "    <tr>\n",
       "      <th>75%</th>\n",
       "      <td>11.300000</td>\n",
       "      <td>0.064000</td>\n",
       "      <td>0.390000</td>\n",
       "      <td>0.996950</td>\n",
       "      <td>7.700000</td>\n",
       "      <td>41.000000</td>\n",
       "      <td>3.320000</td>\n",
       "      <td>8.100000</td>\n",
       "      <td>0.600000</td>\n",
       "      <td>156.000000</td>\n",
       "      <td>0.400000</td>\n",
       "    </tr>\n",
       "    <tr>\n",
       "      <th>max</th>\n",
       "      <td>14.900000</td>\n",
       "      <td>0.611000</td>\n",
       "      <td>1.660000</td>\n",
       "      <td>1.038980</td>\n",
       "      <td>15.900000</td>\n",
       "      <td>289.000000</td>\n",
       "      <td>4.010000</td>\n",
       "      <td>65.800003</td>\n",
       "      <td>2.000000</td>\n",
       "      <td>440.000000</td>\n",
       "      <td>1.580000</td>\n",
       "    </tr>\n",
       "  </tbody>\n",
       "</table>\n",
       "</div>"
      ],
      "text/plain": [
       "       features/alcohol  features/chlorides  features/citric acid  \\\n",
       "count       5847.000000         5847.000000           5847.000000   \n",
       "mean          10.496382            0.055992              0.318519   \n",
       "std            1.192027            0.035422              0.144470   \n",
       "min            8.000000            0.009000              0.000000   \n",
       "25%            9.500000            0.038000              0.250000   \n",
       "50%           10.300000            0.047000              0.310000   \n",
       "75%           11.300000            0.064000              0.390000   \n",
       "max           14.900000            0.611000              1.660000   \n",
       "\n",
       "       features/density  features/fixed acidity  features/free sulfur dioxide  \\\n",
       "count       5847.000000             5847.000000                   5847.000000   \n",
       "mean           0.994684                7.210185                     30.592954   \n",
       "std            0.003007                1.288970                     17.813128   \n",
       "min            0.987130                3.800000                      1.000000   \n",
       "25%            0.992300                6.400000                     17.000000   \n",
       "50%            0.994860                7.000000                     29.000000   \n",
       "75%            0.996950                7.700000                     41.000000   \n",
       "max            1.038980               15.900000                    289.000000   \n",
       "\n",
       "       features/pH  features/residual sugar  features/sulphates  \\\n",
       "count  5847.000000              5847.000000         5847.000000   \n",
       "mean      3.217339                 5.453275            0.531599   \n",
       "std       0.160379                 4.765171            0.148349   \n",
       "min       2.720000                 0.600000            0.220000   \n",
       "25%       3.110000                 1.800000            0.430000   \n",
       "50%       3.200000                 3.000000            0.510000   \n",
       "75%       3.320000                 8.100000            0.600000   \n",
       "max       4.010000                65.800003            2.000000   \n",
       "\n",
       "       features/total sulfur dioxide  features/volatile acidity  \n",
       "count                    5847.000000                5847.000000  \n",
       "mean                      115.862494                   0.339868  \n",
       "std                        56.396158                   0.165075  \n",
       "min                         6.000000                   0.080000  \n",
       "25%                        78.000000                   0.230000  \n",
       "50%                       118.000000                   0.290000  \n",
       "75%                       156.000000                   0.400000  \n",
       "max                       440.000000                   1.580000  "
      ]
     },
     "execution_count": 5,
     "metadata": {},
     "output_type": "execute_result"
    }
   ],
   "source": [
    "df.describe()"
   ]
  },
  {
   "cell_type": "markdown",
   "metadata": {},
   "source": [
    "### Visualizing data\n",
    "If you want a cool and easy way to visualize not only the features, but also the correlations between features, you can use the following seaborn function, which will display the individual features on the diagonal of the subplots and the correlations between features\n",
    "\n",
    "`pl = sns.pairplot(df[df.columns], diag_kind='kde')`"
   ]
  },
  {
   "cell_type": "code",
   "execution_count": 6,
   "metadata": {},
   "outputs": [
    {
     "data": {
      "image/png": "[encoded data removed]",
      "text/plain": [
       "<Figure size 1080x1440 with 12 Axes>"
      ]
     },
     "metadata": {
      "needs_background": "light"
     },
     "output_type": "display_data"
    }
   ],
   "source": [
    "#visualizing our input features\n",
    "nFeatures = len(df.columns)\n",
    "nCols = 3\n",
    "nRows = int(np.ceil(nFeatures/nCols))\n",
    "cols = df.columns\n",
    "fig, axs = plt.subplots(nRows,nCols,figsize=(15,20))\n",
    "# for i, ax in enumerate(axs)\n",
    "col = 0\n",
    "for i in range(nRows):\n",
    "    for j in range(nCols):\n",
    "        if col >= nFeatures:\n",
    "            break\n",
    "        h = axs[i,j].hist(df[cols[col]])\n",
    "        h = axs[i,j].set_title(cols[col])\n",
    "        col += 1"
   ]
  },
  {
   "cell_type": "markdown",
   "metadata": {},
   "source": [
    "It looks like there are two types of sulfur dioxide features: total sulfur dioxide and free sulfur dioxide. I'm not entirely sure what sulfur dioxide is (I am neither a chemist nor a sommelier) so I'm curious if there is a correlation between these features. "
   ]
  },
  {
   "cell_type": "code",
   "execution_count": 7,
   "metadata": {},
   "outputs": [
    {
     "data": {
      "text/plain": [
       "<matplotlib.collections.PathCollection at 0x7ff695dc7af0>"
      ]
     },
     "execution_count": 7,
     "metadata": {},
     "output_type": "execute_result"
    },
    {
     "data": {
      "text/plain": [
       "Text(0.5, 0, 'Free Sulfur Dioxide')"
      ]
     },
     "execution_count": 7,
     "metadata": {},
     "output_type": "execute_result"
    },
    {
     "data": {
      "text/plain": [
       "Text(0, 0.5, 'Total Sulfur Dioxide')"
      ]
     },
     "execution_count": 7,
     "metadata": {},
     "output_type": "execute_result"
    },
    {
     "data": {
      "image/png": "[encoded data removed]",
      "text/plain": [
       "<Figure size 432x288 with 1 Axes>"
      ]
     },
     "metadata": {
      "needs_background": "light"
     },
     "output_type": "display_data"
    }
   ],
   "source": [
    "plt.scatter(df['features/free sulfur dioxide'],df['features/total sulfur dioxide'])\n",
    "plt.xlabel('Free Sulfur Dioxide',fontsize=14)\n",
    "plt.ylabel('Total Sulfur Dioxide',fontsize=14)"
   ]
  },
  {
   "cell_type": "markdown",
   "metadata": {},
   "source": [
    "It looks like there is some correlation between these features. If I had to guess, I would say \"free sulfur dioxide\" is a subset of \"total sulfur dioxide\" but I'm not sure how or even if either of these features would affect the wine quality. This is where domain specific knowledge would be helpful! Since I have a degree in physics and not wine studies (contrary to what my weekend activities may imply) I am going to see what happens when we include both of these features in our network."
   ]
  },
  {
   "cell_type": "markdown",
   "metadata": {},
   "source": [
    "This was just a cursory look at our data. In reality, data scientists will spend most of their time feature engineering, fixing incomplete datasets, cleaning data, etc. Feel free to do more exploratory analysis on the data before you pass it through to a network!"
   ]
  },
  {
   "attachments": {
    "image.png": {
     "image/png": "[encoded data removed]"
    }
   },
   "cell_type": "markdown",
   "metadata": {},
   "source": [
    "## Let's build our network!\n",
    "We want to build a simple DNN to essentially perform a categorization. Let's start with something simple: only a couple hidden layers and a handful of neurons. Of course, in accordance with the Universal Approximation Theorem, any function can be approximated arbitrarily well with an arbitrarily large number of layers (Lu et. al. 2017) or arbitrarily large number of neurons (Cybenko 1989). Does the network perform better or worse with an increase in layers or neurons?\n",
    "\n",
    "A: The addition of a few layers (with 80 neurons each) results in a rise in the number of trainable parameters. Despite the prediction that a more hefty neural network would result in a more impressive loss vs. epoch figure, the val and train losses split much more readily than with the default number of this notebook (with epoch of 200):\n",
    "![image.png](attachment:image.png)\n",
    "The matter worsens with an epoch of 100 and validation of 0.5."
   ]
  },
  {
   "cell_type": "code",
   "execution_count": 51,
   "metadata": {},
   "outputs": [
    {
     "name": "stdout",
     "output_type": "stream",
     "text": [
      "Model: \"sequential_6\"\n",
      "_________________________________________________________________\n",
      "Layer (type)                 Output Shape              Param #   \n",
      "=================================================================\n",
      "dense_32 (Dense)             (None, 64)                768       \n",
      "_________________________________________________________________\n",
      "dense_33 (Dense)             (None, 64)                4160      \n",
      "_________________________________________________________________\n",
      "dense_34 (Dense)             (None, 64)                4160      \n",
      "_________________________________________________________________\n",
      "dense_35 (Dense)             (None, 7)                 455       \n",
      "=================================================================\n",
      "Total params: 9,543\n",
      "Trainable params: 9,543\n",
      "Non-trainable params: 0\n",
      "_________________________________________________________________\n"
     ]
    }
   ],
   "source": [
    "cols = df.columns\n",
    "nClasses = len(labels[0])\n",
    "\n",
    "#using Keras's Sequential model - https://keras.io/api/models/sequential/\n",
    "model = Sequential()\n",
    "#add input layer\n",
    "model.add(Input(shape=(len(cols),))) #the input layer shape should match the number of features we have\n",
    "#add first layer of fully connected neurons\n",
    "model.add(Dense(64,activation='relu'))\n",
    "#add second layer (first hidden layer)\n",
    "model.add(Dense(64,activation='relu'))\n",
    "#and one more because why not\n",
    "model.add(Dense(64,activation='relu'))\n",
    "\n",
    "#AND ANOTHER THREE.\n",
    "#model.add(Dense(80,activation='relu'))\n",
    "#model.add(Dense(80,activation='relu'))\n",
    "#model.add(Dense(80,activation='relu'))\n",
    "\n",
    "#finally, our output layer should have only one neuron because we are trying to predict only one number\n",
    "#notice how there is a different activation function in this layer\n",
    "#this is because we want our outputs for each class to be a probability\n",
    "model.add(Dense(nClasses,activation='softmax'))\n",
    "\n",
    "#compile our model - set our loss metric (categorical cross entropy) and optimizer (stochastic gradient descent)\n",
    "#how does the model performance change with different optimizers (ie AdaGrad, SGD, etc.)?\n",
    "model.compile(loss='CategoricalCrossentropy',optimizer='Adam',metrics=['accuracy'])\n",
    "\n",
    "#let's see a summary of our model\n",
    "model.summary()"
   ]
  },
  {
   "cell_type": "markdown",
   "metadata": {},
   "source": [
    "As shown above, we have a network with three layers, 64 neurons/layer, for a total of ~9.5k trainable parameters (remember: parameters are the biases and weights that the network learns). Imagine how many parameters a large, complex network at Google has!"
   ]
  },
  {
   "cell_type": "markdown",
   "metadata": {},
   "source": [
    "### the same model can be built using the generic Model class and slightly different syntax\n",
    "`\n",
    "inputs = tf.keras.Input(shape=(len(cols),))\n",
    "outputs_L1 = Dense(64, activation='relu')(inputs)\n",
    "outputs_L2 = Dense(64, activation='relu')(outputs_L1)\n",
    "outputs_L3 = Dense(64, activation='relu')(outputs_L2)\n",
    "pred = Dense(1)(outputs_L3)\n",
    "model = Model(inputs=inputs,outputs=pred)\n",
    "`"
   ]
  },
  {
   "cell_type": "markdown",
   "metadata": {},
   "source": [
    "### Training our model\n",
    "\n",
    "Let's give our model all the input features (df), the corresponding labels (labels)\n",
    "\n",
    "There is a 30% validation split, which means that 70% of our data will be used to train the model parameters\n",
    "while 30% of it will be saved to \"check\" our answers. This is data that the model has not seen (been trained on) so the performance on the validation data should give us an idea of if the model is over- or underfitting.\n",
    "\n",
    "We will train for 50 epochs, which means that the entire dataset will be passed through the whole network 50 times. Our batch size is 100, meaning that 100 samples at a time are passed to the network before the parameters are updated. The `shuffle` argument ensures that our data is shuffled before the beginning of each epoch to reduce spurious learned correlations. What happens if you let the model run for more epochs?\n",
    "\n",
    "A: Computation time increases and my laptop becomes sad. With respect to the parameters, if I double the epoch length to 200 from 100, val_accuracy remains relatively constant while accuracy improves and train_loss decreases (though val_loss increases). Following your description of the plot below, I assume there is definite overfitting occurring, and the problem is much more evident with this epoch rise with constant sample size."
   ]
  },
  {
   "cell_type": "code",
   "execution_count": 52,
   "metadata": {
    "scrolled": true
   },
   "outputs": [],
   "source": [
    "#verbose=1 for text outputs following each epoch; verbose=0 to suppress these print statements.\n",
    "\n",
    "history = model.fit(\n",
    "    df, labels,\n",
    "    validation_split=0.4,\n",
    "    verbose=0, epochs=50, batch_size=100, shuffle=True)"
   ]
  },
  {
   "cell_type": "markdown",
   "metadata": {},
   "source": [
    "Let's define a function to visualize our loss"
   ]
  },
  {
   "cell_type": "code",
   "execution_count": 53,
   "metadata": {},
   "outputs": [
    {
     "data": {
      "image/png": "[encoded data removed]",
      "text/plain": [
       "<Figure size 432x288 with 1 Axes>"
      ]
     },
     "metadata": {
      "needs_background": "light"
     },
     "output_type": "display_data"
    }
   ],
   "source": [
    "#epoch=50, validation_split=0.4, default neuron layers given in notebook.\n",
    "#epoch=200 is too many. epoch=100 yields satisfactory results.\n",
    "\n",
    "def show_loss(history):\n",
    "    plt.figure()\n",
    "    plt.plot(history.history['val_loss'], label=\"val loss\")\n",
    "    plt.plot(history.history['loss'],label=\"train loss\")\n",
    "    plt.xlabel(\"Epoch\")\n",
    "    plt.ylabel(\"Loss\")\n",
    "    plt.legend()\n",
    "show_loss(history)"
   ]
  },
  {
   "cell_type": "markdown",
   "metadata": {},
   "source": [
    "It looks like our training loss is more or less monotonically minimized with each epoch (with some fluctuations) while the validation loss seems to be on average higher. The validation loss spikes more severely than the training loss, which is probably due to limited statistics (we only had ~6k samples and took only 30% of them for validation - it usually takes LOTS of data to train neural networks well!). The trend discrepancy between training and validation losses could indicate some overfitting in our model. What happens if you increase the percentage of data used for validation? Since it's pretty apparent we're overfitting to our training data, we could introduce some sort of regularization techniques, like L2 regularization (that penalizes large weights) or dropout (that randomly drops neurons in a layer with a set probability). What happens if you introduce some of these methods?"
   ]
  },
  {
   "cell_type": "markdown",
   "metadata": {},
   "source": [
    "### Remember that test data we set aside at the beginning?\n",
    "Now it's time to use it to evaluate our model performance!"
   ]
  },
  {
   "cell_type": "code",
   "execution_count": 54,
   "metadata": {
    "scrolled": true
   },
   "outputs": [
    {
     "name": "stdout",
     "output_type": "stream",
     "text": [
      "21/21 [==============================] - 0s 2ms/step - loss: 1.1589 - accuracy: 0.5062\n",
      "Accuracy for test data is 50.62%\n"
     ]
    }
   ],
   "source": [
    "_, acc = model.evaluate(df_test, df_testLabels, verbose=1)\n",
    "print('Accuracy for test data is','%.2f'%(acc*100)+'%')"
   ]
  },
  {
   "cell_type": "markdown",
   "metadata": {},
   "source": [
    "To plot our results, I just chose the highest probability of the classes and assigned the prediction to a class based on that rounding (highest probability gets a 1, every other class gets a 0). Then, I one-hot decoded the rounded array to get a single number for the class. "
   ]
  },
  {
   "cell_type": "code",
   "execution_count": 55,
   "metadata": {},
   "outputs": [
    {
     "data": {
      "image/png": "[encoded data removed]",
      "text/plain": [
       "<Figure size 432x288 with 2 Axes>"
      ]
     },
     "metadata": {
      "needs_background": "light"
     },
     "output_type": "display_data"
    }
   ],
   "source": [
    "preds = model.predict(df_test)\n",
    "preds = [i.round() for i in preds]\n",
    "\n",
    "preds = enc.inverse_transform(preds)\n",
    "testLabels = enc.inverse_transform(df_testLabels)\n",
    "cm = confusion_matrix(testLabels, preds)\n",
    "\n",
    "_ =plt.imshow(cm, cmap=plt.cm.Blues)\n",
    "_ = plt.xlabel(\"Predicted labels\")\n",
    "_ = plt.ylabel(\"True labels\")\n",
    "\n",
    "_ =plt.xticks(np.arange(0,len(np.unique(testLabels)),1),np.unique(testLabels))\n",
    "_ =plt.yticks(np.arange(0,len(np.unique(testLabels)),1),np.unique(testLabels))\n",
    "_ =plt.title('Confusion matrix ')\n",
    "_ =plt.colorbar()\n",
    "plt.show()"
   ]
  },
  {
   "cell_type": "markdown",
   "metadata": {},
   "source": [
    "It looks like our network is only predicting *some* of our classes. Maybe that's because really good wine (rated 8 and 9) is pretty rare? Let's check it out."
   ]
  },
  {
   "cell_type": "code",
   "execution_count": 56,
   "metadata": {},
   "outputs": [
    {
     "data": {
      "image/png": "[encoded data removed]",
      "text/plain": [
       "<Figure size 432x288 with 1 Axes>"
      ]
     },
     "metadata": {
      "needs_background": "light"
     },
     "output_type": "display_data"
    }
   ],
   "source": [
    "_=plt.hist(enc.inverse_transform(labels),label='training labels')\n",
    "_=plt.hist(testLabels,label='test labels')\n",
    "_=plt.yscale('log')\n",
    "_=plt.legend()"
   ]
  },
  {
   "cell_type": "markdown",
   "metadata": {},
   "source": [
    "Yep! Mostly 5s, 6s, and 7s. Only a handful of really good wines (8s and 9s) and really bad wines (3s and 4s). In fact, no scores below a 3! But no perfect 10s either. Overall, I would say that the dataset is imbalanced (mostly ok wines, some bad and some good - a pretty Gaussian distribution) and could benefit from data augmentation techniques like bootstrapping! Maybe you could even generate some more data from randomly sampling a known distribution...But if you train your model on mostly ok wines, then it learns the characteristics of those wines really well. So, when it's faced with a good or bad wine, it's not as sure how to classify it. You can see if this is happening by looking at the network output, which are the probabilities for each class (ie how sure the network is this sample belongs to a certain class)."
   ]
  },
  {
   "cell_type": "markdown",
   "metadata": {},
   "source": [
    "### Overall, \n",
    "Our network performs ok with a training, validation, and test accuracy all around 50-60%. What could you change about the network or inputs? How do you think that would affect the model's predictions?\n",
    "\n",
    "A: I think a larger number of sample on which to train the neural network (as well as the number with which to test the network) would be helpful. I also noticed that finding a balance between epoch number, validation split, and layer/neuron number that resulted in a loss vs. epoch plot with nearly-superimposed val and training losses was quite tricky, which may simply reflect my lack of familiarity with this topic but could as well speak to the sensitivity of the test accuracy to the setup parameters. For instance, I assumed the introduction of more network layers would surely improve the accuracy percentage, only to learn that doing so simply lowered the value and augmented the val/test loss separation even further. I daresay more trial and error is necessary here."
   ]
  },
  {
   "cell_type": "code",
   "execution_count": null,
   "metadata": {},
   "outputs": [],
   "source": []
  }
 ],
 "metadata": {
  "kernelspec": {
   "display_name": "Python 3",
   "language": "python",
   "name": "python3"
  },
  "language_info": {
   "codemirror_mode": {
    "name": "ipython",
    "version": 3
   },
   "file_extension": ".py",
   "mimetype": "text/x-python",
   "name": "python",
   "nbconvert_exporter": "python",
   "pygments_lexer": "ipython3",
   "version": "3.8.3"
  }
 },
 "nbformat": 4,
 "nbformat_minor": 2
}
