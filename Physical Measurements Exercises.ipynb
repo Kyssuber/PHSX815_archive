{
 "cells": [
  {
   "cell_type": "code",
   "execution_count": 1,
   "metadata": {},
   "outputs": [],
   "source": [
    "import numpy as np\n",
    "from matplotlib import pyplot as plt\n",
    "%matplotlib inline\n",
    "from scipy.stats import mode\n",
    "from numpy import math"
   ]
  },
  {
   "cell_type": "markdown",
   "metadata": {},
   "source": [
    "February 4, 2021"
   ]
  },
  {
   "cell_type": "code",
   "execution_count": 2,
   "metadata": {},
   "outputs": [],
   "source": [
    "x = np.array([3,7,3,7,12,8,9,7,5,7,12,8,6,6,7,6,7,8,9,8,5,10,8,8,8])"
   ]
  },
  {
   "cell_type": "code",
   "execution_count": 8,
   "metadata": {},
   "outputs": [],
   "source": [
    "x_sorted = np.sort(x)"
   ]
  },
  {
   "cell_type": "code",
   "execution_count": 10,
   "metadata": {},
   "outputs": [
    {
     "data": {
      "text/plain": [
       "7.36"
      ]
     },
     "execution_count": 10,
     "metadata": {},
     "output_type": "execute_result"
    }
   ],
   "source": [
    "np.mean(x_sorted)"
   ]
  },
  {
   "cell_type": "code",
   "execution_count": 9,
   "metadata": {},
   "outputs": [
    {
     "data": {
      "text/plain": [
       "7.0"
      ]
     },
     "execution_count": 9,
     "metadata": {},
     "output_type": "execute_result"
    }
   ],
   "source": [
    "np.median(x_sorted)"
   ]
  },
  {
   "cell_type": "code",
   "execution_count": 13,
   "metadata": {},
   "outputs": [
    {
     "data": {
      "text/plain": [
       "array([8])"
      ]
     },
     "execution_count": 13,
     "metadata": {},
     "output_type": "execute_result"
    }
   ],
   "source": [
    "mode(x_sorted)[0]"
   ]
  },
  {
   "cell_type": "code",
   "execution_count": 14,
   "metadata": {},
   "outputs": [
    {
     "data": {
      "text/plain": [
       "2.1331666601557413"
      ]
     },
     "execution_count": 14,
     "metadata": {},
     "output_type": "execute_result"
    }
   ],
   "source": [
    "np.std(x_sorted)"
   ]
  },
  {
   "cell_type": "code",
   "execution_count": 18,
   "metadata": {},
   "outputs": [
    {
     "data": {
      "text/plain": [
       "2.1331666601557404"
      ]
     },
     "execution_count": 18,
     "metadata": {},
     "output_type": "execute_result"
    }
   ],
   "source": [
    "variance = np.mean(x**2) - (np.mean(x))**2\n",
    "np.sqrt(variance)"
   ]
  },
  {
   "cell_type": "markdown",
   "metadata": {},
   "source": [
    "----------------------------------------"
   ]
  },
  {
   "cell_type": "code",
   "execution_count": 22,
   "metadata": {},
   "outputs": [],
   "source": [
    "flag = (x>5.23)&(x<9.49)"
   ]
  },
  {
   "cell_type": "code",
   "execution_count": 23,
   "metadata": {},
   "outputs": [
    {
     "data": {
      "text/plain": [
       "18"
      ]
     },
     "execution_count": 23,
     "metadata": {},
     "output_type": "execute_result"
    }
   ],
   "source": [
    "len(x[flag])"
   ]
  },
  {
   "cell_type": "markdown",
   "metadata": {},
   "source": [
    "--------------"
   ]
  },
  {
   "cell_type": "markdown",
   "metadata": {},
   "source": [
    "February 9, 2021"
   ]
  },
  {
   "cell_type": "code",
   "execution_count": 1,
   "metadata": {},
   "outputs": [],
   "source": [
    "#number of coins per trial: 30\n",
    "#10 trials per individual\n",
    "#110 total trials\n",
    "#plot data (see email), compare to standard binomial distribution\n",
    "###READ TEXTBOOK SECTION!"
   ]
  },
  {
   "cell_type": "code",
   "execution_count": 18,
   "metadata": {},
   "outputs": [],
   "source": [
    "x_eleven = np.array([(13,15,11,14,19,16,15,11,14,13),(15,16,16,15,13,14,16,13,10,15),(20,18,14,16,13,13,14,12,17,11),\n",
    "              (16,13,21,15,18,13,19,13,14,24),(19,15,14,18,16,20,16,10,13,12),(12,15,10,12,23,18,15,17,17,18),\n",
    "              (17,17,16,15,16,18,15,13,17,19),(16,13,13,11,16,10,12,13,20,15),(13,11,14,20,14,15,13,14,17,18),\n",
    "              (10,15,14,16,15,15,15,15,14,12),(15,15,16,16,16,13,20,14,13,16)])"
   ]
  },
  {
   "cell_type": "code",
   "execution_count": 74,
   "metadata": {},
   "outputs": [
    {
     "name": "stdout",
     "output_type": "stream",
     "text": [
      "[13 15 11 14 19 16 15 11 14 13]\n",
      "[15 16 16 15 13 14 16 13 10 15]\n",
      "[20 18 14 16 13 13 14 12 17 11]\n",
      "[16 13 21 15 18 13 19 13 14 24]\n",
      "[19 15 14 18 16 20 16 10 13 12]\n",
      "[12 15 10 12 23 18 15 17 17 18]\n",
      "[17 17 16 15 16 18 15 13 17 19]\n",
      "[16 13 13 11 16 10 12 13 20 15]\n",
      "[13 11 14 20 14 15 13 14 17 18]\n",
      "[10 15 14 16 15 15 15 15 14 12]\n",
      "[15 15 16 16 16 13 20 14 13 16]\n"
     ]
    }
   ],
   "source": [
    "for i in x_eleven:\n",
    "    print(i)"
   ]
  },
  {
   "cell_type": "code",
   "execution_count": 86,
   "metadata": {},
   "outputs": [],
   "source": [
    "x_one = np.array([13,15,11,14,19,16,15,11,14,13,15,16,16,15,13,14,16,13,10,15,20,18,14,16,13,13,14,12,17,11,\n",
    "              16,13,21,15,18,13,19,13,14,24,19,15,14,18,16,20,16,10,13,12,12,15,10,12,23,18,15,17,17,18,\n",
    "              17,17,16,15,16,18,15,13,17,19,16,13,13,11,16,10,12,13,20,15,13,11,14,20,14,15,13,14,17,18,\n",
    "              10,15,14,16,15,15,15,15,14,12,15,15,16,16,16,13,20,14,13,16])\n"
   ]
  },
  {
   "cell_type": "code",
   "execution_count": 110,
   "metadata": {},
   "outputs": [
    {
     "data": {
      "text/plain": [
       "(array([[1., 1., 2., 2., 2., 1., 1., 1., 0., 0.],\n",
       "        [1., 0., 2., 5., 1., 2., 0., 0., 0., 0.],\n",
       "        [2., 0., 5., 0., 3., 0., 0., 1., 0., 0.],\n",
       "        [1., 1., 1., 3., 3., 1., 0., 1., 0., 0.],\n",
       "        [0., 0., 3., 1., 4., 1., 1., 0., 0., 1.],\n",
       "        [1., 0., 4., 2., 1., 2., 0., 1., 0., 0.],\n",
       "        [0., 1., 2., 4., 2., 0., 1., 1., 0., 0.],\n",
       "        [2., 1., 6., 1., 0., 1., 0., 0., 0., 0.],\n",
       "        [1., 0., 5., 0., 0., 4., 0., 1., 0., 0.],\n",
       "        [1., 2., 1., 2., 1., 2., 1., 0., 0., 1.]]),\n",
       " array([100., 114., 128., 142., 156., 170., 184., 198., 212., 226., 240.]),\n",
       " <a list of 10 Lists of Patches objects>)"
      ]
     },
     "execution_count": 110,
     "metadata": {},
     "output_type": "execute_result"
    },
    {
     "data": {
      "image/png": "[encoded data removed]",
      "text/plain": [
       "<Figure size 432x288 with 1 Axes>"
      ]
     },
     "metadata": {
      "needs_background": "light"
     },
     "output_type": "display_data"
    }
   ],
   "source": [
    "# 1 experiment, 10 trials of 330 coins\n",
    "plt.hist(x_eleven*10)"
   ]
  },
  {
   "cell_type": "code",
   "execution_count": 104,
   "metadata": {},
   "outputs": [],
   "source": [
    "#330 coins into the air 10 times\n",
    "n = 110\n",
    "p = 1/2\n",
    "x = np.arange(0,110,1)\n",
    "bi_dist_list = []\n",
    "for i in range(0,len(x)):\n",
    "    try:\n",
    "        bi_dist = math.factorial(n)/(math.factorial(x[i])*math.factorial(n-x[i])) * p**x[i] * (1-p)**(n-x[i])\n",
    "        bi_dist_list.append(bi_dist)\n",
    "    except:\n",
    "        #bi_dist_list.append(0)\n",
    "        bi_dist = int(math.factorial(n))/int(math.factorial(x[i])*math.factorial(n-x[i])) * p**x[i] * (1-p)**(n-x[i])\n",
    "        bi_dist_list.append(bi_dist)\n",
    "   "
   ]
  },
  {
   "cell_type": "code",
   "execution_count": 105,
   "metadata": {},
   "outputs": [
    {
     "data": {
      "text/plain": [
       "Text(0, 0.5, '# Occurrences')"
      ]
     },
     "execution_count": 105,
     "metadata": {},
     "output_type": "execute_result"
    },
    {
     "data": {
      "image/png": "[encoded data removed]",
      "text/plain": [
       "<Figure size 432x288 with 1 Axes>"
      ]
     },
     "metadata": {
      "needs_background": "light"
     },
     "output_type": "display_data"
    },
    {
     "data": {
      "image/png": "[encoded data removed]",
      "text/plain": [
       "<Figure size 432x288 with 1 Axes>"
      ]
     },
     "metadata": {
      "needs_background": "light"
     },
     "output_type": "display_data"
    }
   ],
   "source": [
    "plt.plot(x,bi_dist_list)\n",
    "plt.xlabel('# Heads',fontsize=15)\n",
    "plt.ylabel('Probability',fontsize=15)\n",
    "plt.title('P(x;n,p) for n=330, p=1/2',fontsize=17)\n",
    "plt.figure()\n",
    "plt.hist(x_one*10)\n",
    "plt.xlim(0,300)\n",
    "plt.xlabel('# Heads',fontsize=15)\n",
    "plt.ylabel('# Occurrences',fontsize=15)"
   ]
  },
  {
   "cell_type": "code",
   "execution_count": 106,
   "metadata": {},
   "outputs": [
    {
     "data": {
      "text/plain": [
       "15.036363636363637"
      ]
     },
     "execution_count": 106,
     "metadata": {},
     "output_type": "execute_result"
    }
   ],
   "source": [
    "np.mean(x_eleven)"
   ]
  },
  {
   "cell_type": "code",
   "execution_count": 107,
   "metadata": {},
   "outputs": [
    {
     "data": {
      "text/plain": [
       "7.471404958677687"
      ]
     },
     "execution_count": 107,
     "metadata": {},
     "output_type": "execute_result"
    }
   ],
   "source": [
    "np.std(x_eleven)**2"
   ]
  },
  {
   "cell_type": "code",
   "execution_count": 109,
   "metadata": {},
   "outputs": [
    {
     "data": {
      "text/plain": [
       "0.26302029492666895"
      ]
     },
     "execution_count": 109,
     "metadata": {},
     "output_type": "execute_result"
    }
   ],
   "source": [
    "np.std(x_eleven)/np.sqrt(n-2)"
   ]
  },
  {
   "cell_type": "markdown",
   "metadata": {},
   "source": [
    "---------"
   ]
  },
  {
   "cell_type": "markdown",
   "metadata": {},
   "source": [
    "February 11, 2021"
   ]
  },
  {
   "cell_type": "raw",
   "metadata": {},
   "source": [
    "\"Come on, Kim. Don't be a kamikaze! Be rational and retreat!\" -- Prof. Murray\n",
    "\n",
    "End of battle:\n",
    "\n",
    "#German ships remaining -->\n",
    "German: 5 with 0 ships, 6 with 1 ship, 9 with 2 ships, 2 with 3 ships\n",
    "\n",
    "#British ships remaining --> \n",
    "British: 19 with 0 ships, 3 with 1 ship, 3 with 2 ships"
   ]
  },
  {
   "cell_type": "code",
   "execution_count": 66,
   "metadata": {},
   "outputs": [],
   "source": [
    "brit = np.array([0,0,0,0,0,0,0,0,0,0,0,0,0,0,0,0,0,0,0,1,1,1,2,2,2])\n",
    "ger = np.array([0,0,1,1,1,1,1,1,2,2,2,2,2,2,2,2,2,3,3])\n",
    "\n",
    "#count number of occurrences of either 0,1,2,3 ships remaining for Germans and British\n",
    "\n",
    "num0=0\n",
    "num1=0\n",
    "num2=0\n",
    "num3=0\n",
    "\n",
    "for i in range(1,len(brit)):\n",
    "\n",
    "    if brit[i-1] == 0:\n",
    "        num0 += 1\n",
    "    if brit[i-1] == 1:\n",
    "        num1 += 1\n",
    "    if brit[i-1] == 2:\n",
    "        num2 += 1\n",
    "        \n",
    "mean_brit = np.array([num0,num1,num2,num3])\n",
    "\n",
    "num0=0 \n",
    "num1=0\n",
    "num2=0\n",
    "num3=0\n",
    "\n",
    "for i in range(1,len(ger)):\n",
    "    if ger[i-1] == 0:\n",
    "        num0 += 1\n",
    "    if ger[i-1] == 1:\n",
    "        num1 += 1\n",
    "    if ger[i-1] == 2:\n",
    "        num2 += 1\n",
    "    if ger[i-1] == 3:\n",
    "        num3 += 1\n",
    "        \n",
    "mean_ger = np.array([num0,num1,num2,num3])"
   ]
  },
  {
   "cell_type": "code",
   "execution_count": 67,
   "metadata": {
    "scrolled": true
   },
   "outputs": [
    {
     "data": {
      "text/plain": [
       "<matplotlib.legend.Legend at 0x7f838c07f160>"
      ]
     },
     "execution_count": 67,
     "metadata": {},
     "output_type": "execute_result"
    },
    {
     "data": {
      "image/png": "[encoded data removed]",
      "text/plain": [
       "<Figure size 432x288 with 1 Axes>"
      ]
     },
     "metadata": {
      "needs_background": "light"
     },
     "output_type": "display_data"
    }
   ],
   "source": [
    "#code to plot neat n' tidy bar plot adapted from people.duke.edu~ccc14/pcfb/numpympl/MatplotlibBarPlots.html\n",
    "\n",
    "fig = plt.figure()\n",
    "ax = fig.add_subplot(111)\n",
    "ind=np.arange(0,4,1)\n",
    "width=0.25\n",
    "\n",
    "#manipulated first arg to arrange and position the bars correctly about each x-tick mark\n",
    "\n",
    "brit1 = ax.bar(ind+0.1,mean_brit,width,color='blue',label='British')\n",
    "ger1 = ax.bar(ind+width+0.1,mean_ger,width,color='red',label='German')\n",
    "\n",
    "\n",
    "ax.set_xlim(-width,len(ind)+width)\n",
    "ax.set_ylim(0,25)\n",
    "xTickMarks=[str(i) + ' Ships' for i in range(0,4)]\n",
    "ax.set_xticks(ind+width)\n",
    "xtickNames=ax.set_xticklabels(xTickMarks)\n",
    "plt.setp(xtickNames,rotation=45,fontsize=10)\n",
    "\n",
    "\n",
    "\n",
    "#plt.hist(ger,width=0.25,label='German')\n",
    "#plt.hist(brit,width=0.25,label='British')\n",
    "\n",
    "plt.title('# Ships Remaining Following Victory',fontsize=15)\n",
    "\n",
    "plt.ylabel('# Occurrences',fontsize=15)\n",
    "plt.grid()\n",
    "plt.legend()"
   ]
  }
 ],
 "metadata": {
  "kernelspec": {
   "display_name": "Python 3",
   "language": "python",
   "name": "python3"
  },
  "language_info": {
   "codemirror_mode": {
    "name": "ipython",
    "version": 3
   },
   "file_extension": ".py",
   "mimetype": "text/x-python",
   "name": "python",
   "nbconvert_exporter": "python",
   "pygments_lexer": "ipython3",
   "version": "3.8.3"
  }
 },
 "nbformat": 4,
 "nbformat_minor": 4
}
