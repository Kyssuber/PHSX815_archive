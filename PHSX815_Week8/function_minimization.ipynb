{
 "cells": [
  {
   "cell_type": "code",
   "execution_count": null,
   "metadata": {},
   "outputs": [],
   "source": [
    "import numpy as np\n",
    "from matplotlib import pyplot as plt\n",
    "from numpy.random import random\n",
    "from scipy.optimize import minimize\n",
    "\n",
    "import sys\n",
    "\n",
    "sys.path.append(\".\")\n",
    "\n",
    "\n",
    "#default minimum and maximum bounds [x_min,x_max]\n",
    "x_min = -10\n",
    "x_max = 5\n",
    "\n",
    "\n",
    "#sample random points in function from xmin to xmax. Append to list.\n",
    "def get_rand_list(xmin,xmax):\n",
    "    \n",
    "    rand_list = []\n",
    "    \n",
    "    for i in range(0,int(np.abs(x_min))+int(np.abs(x_max))):\n",
    "        x = random() \n",
    "        \n",
    "        if random() < 0.5:\n",
    "            x = x*x_min\n",
    "        else:\n",
    "            x = x*x_max \n",
    "        \n",
    "        rand_list.append(x)\n",
    "        \n",
    "\n",
    "   \n",
    "\n",
    "minimum_list_x = []\n",
    "minimum_list_f = []\n",
    "\n",
    "#function\n",
    "f =lambda x: np.exp(-x) * np.sin(x)\n",
    "\n",
    "#array of x values for plotting purposes\n",
    "x = np.linspace(x_min,x_max+0.5,10000)\n",
    "\n",
    "#preparing the \"blank canvas\"\n",
    "plt.figure(figsize=(10,8))\n",
    "plt.plot(x,f(x))\n",
    "\n",
    "#loop through each entry in rand_list, set as initial x0, apply scipy.optimize.minimize to f given x0\n",
    "for n in rand_list:\n",
    "    x0 = n\n",
    "    res = minimize(f,x0)\n",
    "    #appends x,f coordinates representing approximated minimum given x0 to two separate lists\n",
    "    minimum_list_x.append(res.x[0])\n",
    "    minimum_list_f.append(f(res.x)[0])\n",
    "\n",
    "    plt.scatter(res.x[0],f(res.x)[0],s=30,color='black')\n",
    "    \n",
    "#find and encircle the global minimum on given function range\n",
    "minimum_list_x = np.asarray(minimum_list_x)\n",
    "minimum_list_f = np.asarray(minimum_list_f)\n",
    "min_x_coord = minimum_list_x[np.where(minimum_list_f == np.min(minimum_list_f))[0]]\n",
    "print(min_x_coord,np.min(minimum_list_f))\n",
    "\n",
    "plt.scatter(min_x_coord[0],np.min(minimum_list_f),s=100,color='r',marker='o',label='global minimum on interval')\n",
    "plt.legend(fontsize=20)\n",
    "plt.xlabel('x',fontsize=34)\n",
    "plt.ylabel('f(x)',fontsize=34)\n",
    "plt.show()\n",
    "\n",
    "    \n",
    "#main function\n",
    "if __name__ == \"__main__\":  \n",
    "    \n",
    "    \n",
    "    if '-xmin' in sys.argv:\n",
    "        p = sys.argv.index('-xmin')\n",
    "        x_min = float(sys.argv[p+1])\n",
    "        \n",
    "    if '-xmax' in sys.argv:\n",
    "        p = sys.argv.index('-xmax')\n",
    "        x_max = float(sys.argv[p+1])\n",
    "        \n",
    "    if '-h' in sys.argv or '--help' in sys.argv:\n",
    "        print (\"Usage: %s [-xmin] min_bound_number [-xmax] max_bound_number\" % sys.argv[0])\n",
    "        print\n",
    "        sys.exit([1])\n",
    "        \n",
    "        \n",
    "    "
   ]
  },
  {
   "cell_type": "markdown",
   "metadata": {},
   "source": [
    "- Write a program that can find the minimum of a function that you define. The function can be any one (even very simple) as long as it actually has a minimum. You are welcome to use any standard or external C++ or Python libraries (you don't need to implement the minimization routine, only the function to be minimized). You can also try to visualize your function and the location of the minimum (not required)."
   ]
  },
  {
   "cell_type": "code",
   "execution_count": 176,
   "metadata": {},
   "outputs": [],
   "source": [
    "#minimum and maximum bounds [x_min,x_max]\n",
    "x_min = -10\n",
    "x_max = 5\n",
    "\n",
    "\n",
    "#sample random points in function from -10 to 10. Append to list.\n",
    "\n",
    "rand_list = []\n",
    "\n",
    "for i in range(0,20):\n",
    "    x = random() \n",
    "    if random() < 0.5:\n",
    "        x = x*x_min\n",
    "    else:\n",
    "        x = x*x_max \n",
    "    rand_list.append(x)"
   ]
  },
  {
   "cell_type": "code",
   "execution_count": 177,
   "metadata": {},
   "outputs": [
    {
     "name": "stdout",
     "output_type": "stream",
     "text": [
      "[-8.6393798] -3995.0293589297553\n"
     ]
    },
    {
     "data": {
      "text/plain": [
       "Text(0, 0.5, 'f(x)')"
      ]
     },
     "execution_count": 177,
     "metadata": {},
     "output_type": "execute_result"
    },
    {
     "data": {
      "image/png": "[encoded data removed]",
      "text/plain": [
       "<Figure size 720x576 with 1 Axes>"
      ]
     },
     "metadata": {
      "needs_background": "light"
     },
     "output_type": "display_data"
    }
   ],
   "source": [
    "minimum_list_x = []\n",
    "minimum_list_f = []\n",
    "\n",
    "#function\n",
    "f =lambda x: np.exp(-x) * np.sin(x)\n",
    "\n",
    "#array of x values for plotting purposes\n",
    "x = np.linspace(x_min,x_max+0.5,10000)\n",
    "#preparing the \"blank canvas\"\n",
    "plt.figure(figsize=(10,8))\n",
    "plt.plot(x,f(x))\n",
    "\n",
    "#loop through each entry in rand_list, set as initial x0, apply scipy.optimize.minimize to f given x0\n",
    "for n in rand_list:\n",
    "    x0 = n\n",
    "    res = minimize(f,x0)\n",
    "    #appends x,f coordinates representing approximated minimum given x0 to two separate lists\n",
    "    minimum_list_x.append(res.x[0])\n",
    "    minimum_list_f.append(f(res.x)[0])\n",
    "\n",
    "    plt.scatter(res.x[0],f(res.x)[0],s=30,color='black')\n",
    "    \n",
    "#find and encircle the global minimum on given function range\n",
    "minimum_list_x = np.asarray(minimum_list_x)\n",
    "minimum_list_f = np.asarray(minimum_list_f)\n",
    "min_x_coord = minimum_list_x[np.where(minimum_list_f == np.min(minimum_list_f))[0]]\n",
    "print(min_x_coord,np.min(minimum_list_f))\n",
    "\n",
    "plt.scatter(min_x_coord[0],np.min(minimum_list_f),s=100,color='r',marker='o',label='global minimum on interval')\n",
    "plt.legend(fontsize=20)\n",
    "plt.xlabel('x',fontsize=34)\n",
    "plt.ylabel('f(x)',fontsize=34)"
   ]
  },
  {
   "cell_type": "code",
   "execution_count": null,
   "metadata": {},
   "outputs": [],
   "source": []
  },
  {
   "cell_type": "code",
   "execution_count": null,
   "metadata": {},
   "outputs": [],
   "source": []
  },
  {
   "cell_type": "code",
   "execution_count": null,
   "metadata": {},
   "outputs": [],
   "source": []
  },
  {
   "cell_type": "code",
   "execution_count": null,
   "metadata": {},
   "outputs": [],
   "source": []
  }
 ],
 "metadata": {
  "kernelspec": {
   "display_name": "Python 3",
   "language": "python",
   "name": "python3"
  },
  "language_info": {
   "codemirror_mode": {
    "name": "ipython",
    "version": 3
   },
   "file_extension": ".py",
   "mimetype": "text/x-python",
   "name": "python",
   "nbconvert_exporter": "python",
   "pygments_lexer": "ipython3",
   "version": "3.8.3"
  }
 },
 "nbformat": 4,
 "nbformat_minor": 4
}
