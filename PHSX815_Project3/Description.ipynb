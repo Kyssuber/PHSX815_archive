{
 "cells": [
  {
   "cell_type": "markdown",
   "metadata": {},
   "source": [
    "Projects 1 & 2 consisted of addressing whether two hypotheses claiming either a fair or unfair die are distinguishable given some Nroll and Nexp combination, and in particular how robust the rejection of one hypothesis over another changes as Nroll increases. I would like to keep with the dice theme, since I have already established general code that simulates data for this toy experiment.\n",
    "\n",
    "Currently, I am looking to accomplish the following:\n",
    "1. Begin with an unfair die with constant a three face-up (N3) probability p3_true\n",
    "2. Simulate data X assuming some Nexp and Nroll combination, using p3_true\n",
    "3. For each Nexp, calculate p_hat = N3/Ntot; append to list\n",
    "4. Generate histogram distribution of p_hat\n",
    "5. Bin with greatest height represents p_best given the information available, let this value be p_approx\n",
    "6. The likelihood function for the experiment becomes L(p_approx) = (p_approx)^N3 * (1-p_approx)^(N-N3)\n",
    "7. p_approx_hat is the maximum of this likelihood function, so the \"+/- 1 sigma\" (1sig) values are\n",
    "8. log( L(1sig) / L(p_approx_hat) ) = 1/2    (1sig is when the log-likelihood drops by 1/2 relative to the maximum likelihood value  --> 1sig above, 1sig below p_approx_hat that satisfy the relation)\n",
    "\n",
    "With this information, I can then investigate how many experiments or trials per experiment yield a value p_hat nearest to the actual N3 probability, along with the lowest uncertainties. "
   ]
  },
  {
   "cell_type": "code",
   "execution_count": 6,
   "metadata": {},
   "outputs": [
    {
     "data": {
      "image/png": "[encoded data removed]",
      "text/plain": [
       "<Figure size 432x288 with 1 Axes>"
      ]
     },
     "metadata": {
      "needs_background": "light"
     },
     "output_type": "display_data"
    }
   ],
   "source": [
    "import numpy as np\n",
    "from matplotlib import pyplot as plt\n",
    "%matplotlib inline\n",
    "x = np.array([1,2,3,4,5,4,3,2,1,2,3,4,5,4,3,2,1,1,2,2,2,2,2,2,2,3,3,3,4,4,4,5,5,5,5,4,4,4,3,3,3,2,2,2,2,2,2,1,1,1,1,1,1,2,2,2,3,3,3,4,4,4,5,5,5,5,5,7,7,7,7,7,7,7,7,6,6,5,5,4,3,3,3,3,6,6,6,6,6,6,6,6,6,6,6,6,7,7,7,7,7,7,7,7,1,1,1,1,1,1,1,1,2,2,2,2,2,2,2,2,2,2,2,2,2,2,2,2,2,2,2,2,3,3,3,3,4,5,6,7,6,5,4,3,2,1])\n",
    "n = plt.hist(x,bins=7)\n",
    "# n[0] heights, n[1][1] - n[1][0] bin width"
   ]
  },
  {
   "cell_type": "code",
   "execution_count": 14,
   "metadata": {},
   "outputs": [
    {
     "data": {
      "text/plain": [
       "(array([0]),)"
      ]
     },
     "execution_count": 14,
     "metadata": {},
     "output_type": "execute_result"
    }
   ],
   "source": [
    "np.where(np.max(n[0]))"
   ]
  },
  {
   "cell_type": "code",
   "execution_count": 25,
   "metadata": {},
   "outputs": [],
   "source": [
    "flag = (n[1] < np.max(x))\n",
    "flag2 = (n[1][flag] == np.max(n[1][flag]))"
   ]
  },
  {
   "cell_type": "code",
   "execution_count": 30,
   "metadata": {},
   "outputs": [
    {
     "data": {
      "text/plain": [
       "array([1.        , 1.85714286, 2.71428571, 3.57142857, 4.42857143,\n",
       "       5.28571429, 6.14285714, 7.        ])"
      ]
     },
     "execution_count": 30,
     "metadata": {},
     "output_type": "execute_result"
    }
   ],
   "source": [
    "n[1]"
   ]
  },
  {
   "cell_type": "code",
   "execution_count": 38,
   "metadata": {},
   "outputs": [],
   "source": [
    "hist_max = n[1][np.where(n[0] == np.max(n[0]))][0]"
   ]
  },
  {
   "cell_type": "code",
   "execution_count": 33,
   "metadata": {},
   "outputs": [
    {
     "data": {
      "text/plain": [
       "array([1.        , 1.85714286, 2.71428571, 3.57142857, 4.42857143,\n",
       "       5.28571429, 6.14285714, 7.        ])"
      ]
     },
     "execution_count": 33,
     "metadata": {},
     "output_type": "execute_result"
    }
   ],
   "source": [
    "n[1]"
   ]
  },
  {
   "cell_type": "markdown",
   "metadata": {},
   "source": [
    "\"Pull\" (of a parameter):\n",
    "    \n",
    "    . running experimental outcomes multiple times \n",
    "    . for each piece of experimental data, can measure parameters from that data \n",
    "    . in the ith experiment, we measure some parameter alpha_i (value of parameter that maximizes likelihood given the data for the ith experiment)\n",
    "    . maximizing likelihood --> can estimate error by determining how quickly the likelihood drops as parameter is moved around\n",
    "    . log( L(param)/L(best_fit_param) ) <= 1/2, roughly the one-sigma band. \n",
    "    . can also look at spread of parameters (estimate uncertainties by simulating MANY experiments) --> Neyman construction; but the above is helpful for only one experiment\n",
    "    . the PULL --> quantity of (best_fit_param - param_true)/sqrt(variance(param))\n",
    "    . histogram the pull, if experiment is described by normal distribution of uncertainties, then pull will resemble Gaussian with width 1 centered at 0.\n",
    "    ..........if bias, central of the pull will shift from zero (bias --> systematic error/bias); too narrow, then estimated uncertainty is too large on average\n",
    "    . can use pull on SIMULATED experiments to determine whether unbiased --> confidence that error IS the correct error when actually conducting the experiment\n",
    "\n",
    "    \"p3_true\" --> EXPERIMENT --> \"p3_hat\""
   ]
  },
  {
   "cell_type": "code",
   "execution_count": null,
   "metadata": {},
   "outputs": [],
   "source": []
  }
 ],
 "metadata": {
  "kernelspec": {
   "display_name": "Python 3",
   "language": "python",
   "name": "python3"
  },
  "language_info": {
   "codemirror_mode": {
    "name": "ipython",
    "version": 3
   },
   "file_extension": ".py",
   "mimetype": "text/x-python",
   "name": "python",
   "nbconvert_exporter": "python",
   "pygments_lexer": "ipython3",
   "version": "3.8.3"
  }
 },
 "nbformat": 4,
 "nbformat_minor": 4
}
